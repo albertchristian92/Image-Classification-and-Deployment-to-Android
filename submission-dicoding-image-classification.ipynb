{
 "cells": [
  {
   "cell_type": "markdown",
   "metadata": {},
   "source": [
    "## Submission Image Classification series\n",
    "\n",
    "### Nama: Albert Budi Christian\n",
    "### Email: albert.christian92@gmail.com"
   ]
  },
  {
   "cell_type": "code",
   "execution_count": 1,
   "metadata": {
    "execution": {
     "iopub.execute_input": "2021-08-27T18:28:40.982078Z",
     "iopub.status.busy": "2021-08-27T18:28:40.981384Z",
     "iopub.status.idle": "2021-08-27T18:28:46.460810Z",
     "shell.execute_reply": "2021-08-27T18:28:46.460016Z",
     "shell.execute_reply.started": "2021-08-27T18:28:40.981962Z"
    }
   },
   "outputs": [],
   "source": [
    "# Import library yang dibutuhkan \n",
    "\n",
    "import numpy as np\n",
    "import pandas as pd\n",
    "from pathlib import Path\n",
    "import os.path\n",
    "import matplotlib.pyplot as plt\n",
    "import tensorflow as tf\n",
    "import datetime as dt\n",
    "\n",
    "from tensorflow.keras.optimizers import RMSprop\n",
    "from tensorflow.keras.preprocessing.image import ImageDataGenerator\n",
    "from tensorflow.keras.models import Sequential \n",
    "from tensorflow.keras.layers import Conv2D, MaxPooling2D, Dropout, Flatten, Dense, BatchNormalization, GlobalAveragePooling2D, SpatialDropout2D\n",
    "from tensorflow.keras.callbacks import EarlyStopping,LearningRateScheduler\n",
    "from tensorflow.keras.applications.mobilenet_v2 import preprocess_input\n",
    "from tensorflow.keras.applications import DenseNet201\n",
    "from tensorflow.keras.applications.mobilenet import MobileNet\n",
    "from tensorflow.keras.models import Model\n",
    "from tensorflow.keras.utils import plot_model\n",
    "\n",
    "\n",
    "from sklearn.metrics import classification_report,accuracy_score"
   ]
  },
  {
   "cell_type": "markdown",
   "metadata": {},
   "source": [
    "## Dataset\n",
    "\n",
    "Download from kaggle link : https://www.kaggle.com/chetankv/dogs-cats-images"
   ]
  },
  {
   "cell_type": "code",
   "execution_count": 2,
   "metadata": {
    "execution": {
     "iopub.execute_input": "2021-08-27T18:28:46.462698Z",
     "iopub.status.busy": "2021-08-27T18:28:46.462377Z",
     "iopub.status.idle": "2021-08-27T18:28:56.515895Z",
     "shell.execute_reply": "2021-08-27T18:28:56.514899Z",
     "shell.execute_reply.started": "2021-08-27T18:28:46.462664Z"
    }
   },
   "outputs": [],
   "source": [
    "# Set lokasi folder dataset\n",
    "train_dir_ = Path('../input/dogs-cats-images/dataset/training_set')\n",
    "test_dir_ = Path('../input/dogs-cats-images/dataset/test_set')\n",
    "\n",
    "#membuat list berdasarkan file path untuk training dan testing\n",
    "train_filepaths = list(train_dir_.glob(r'**/*.jpg'))\n",
    "test_filepaths = list(test_dir_.glob(r'**/*.jpg'))\n",
    "\n",
    "# Mapping label dan menggabungkan dengan path\n",
    "labels_training = list(map(lambda x: os.path.split(os.path.split(x)[0])[1], train_filepaths))\n",
    "labels_test = list(map(lambda x: os.path.split(os.path.split(x)[0])[1], test_filepaths))\n",
    "\n",
    "train_filepaths = pd.Series(train_filepaths, name = 'Gambar').astype(str)\n",
    "test_filepaths = pd.Series(test_filepaths, name = 'Gambar').astype(str)\n",
    "\n",
    "train_labels = pd.Series(labels_training, name='Label')\n",
    "test_labels = pd.Series(labels_test, name='Label')\n",
    "\n",
    "df_train = pd.concat([train_filepaths, train_labels], axis=1)\n",
    "df_test = pd.concat([test_filepaths, test_labels], axis=1)"
   ]
  },
  {
   "cell_type": "code",
   "execution_count": 3,
   "metadata": {
    "execution": {
     "iopub.execute_input": "2021-08-27T18:28:56.528154Z",
     "iopub.status.busy": "2021-08-27T18:28:56.527908Z",
     "iopub.status.idle": "2021-08-27T18:28:56.533590Z",
     "shell.execute_reply": "2021-08-27T18:28:56.532583Z",
     "shell.execute_reply.started": "2021-08-27T18:28:56.528129Z"
    }
   },
   "outputs": [],
   "source": [
    "#membuat data loading + implement data augmentation, di sini saya set validation 0.3 dari train\n",
    "train_generator = ImageDataGenerator(\n",
    "        rescale = 1./255,\n",
    "        shear_range = 0.2,\n",
    "        zoom_range = 0.1,\n",
    "        rotation_range = 20,\n",
    "        width_shift_range = 0.1,\n",
    "        height_shift_range = 0.1,\n",
    "        horizontal_flip = True,\n",
    "        vertical_flip = True,\n",
    "    )\n",
    "test_generator = ImageDataGenerator(\n",
    "        rescale = 1./255\n",
    "    )\n",
    "batch_size =32"
   ]
  },
  {
   "cell_type": "code",
   "execution_count": 4,
   "metadata": {
    "execution": {
     "iopub.execute_input": "2021-08-27T18:28:56.537662Z",
     "iopub.status.busy": "2021-08-27T18:28:56.536976Z",
     "iopub.status.idle": "2021-08-27T18:29:00.303936Z",
     "shell.execute_reply": "2021-08-27T18:29:00.302871Z",
     "shell.execute_reply.started": "2021-08-27T18:28:56.537601Z"
    }
   },
   "outputs": [
    {
     "name": "stdout",
     "output_type": "stream",
     "text": [
      "Found 8000 validated image filenames belonging to 2 classes.\n",
      "Found 2000 validated image filenames belonging to 2 classes.\n"
     ]
    }
   ],
   "source": [
    "#loading data train, validation, dan test\n",
    "train_gambar = train_generator.flow_from_dataframe( \n",
    "    dataframe = df_train,\n",
    "    x_col = \"Gambar\",\n",
    "    y_col = \"Label\",\n",
    "    target_size = (128, 128),\n",
    "    shuffle=True,\n",
    "    seed = 2,\n",
    "    batch_size = batch_size,\n",
    "    color_mode='rgb',\n",
    "    class_mode='categorical',\n",
    "    fill_mode='nearest',\n",
    "    subset='training'\n",
    ")\n",
    "\n",
    "test_gambar = test_generator.flow_from_dataframe( \n",
    "    dataframe = df_test,\n",
    "    x_col = \"Gambar\",\n",
    "    y_col = \"Label\",\n",
    "    target_size=(128, 128),\n",
    "    class_mode='categorical',\n",
    "    batch_size=batch_size,\n",
    "    shuffle=False\n",
    ")"
   ]
  },
  {
   "cell_type": "code",
   "execution_count": 5,
   "metadata": {
    "execution": {
     "iopub.execute_input": "2021-08-27T18:29:00.309660Z",
     "iopub.status.busy": "2021-08-27T18:29:00.308975Z",
     "iopub.status.idle": "2021-08-27T18:29:04.367489Z",
     "shell.execute_reply": "2021-08-27T18:29:04.366593Z",
     "shell.execute_reply.started": "2021-08-27T18:29:00.309599Z"
    }
   },
   "outputs": [
    {
     "name": "stdout",
     "output_type": "stream",
     "text": [
      "Downloading data from https://storage.googleapis.com/tensorflow/keras-applications/mobilenet/mobilenet_1_0_128_tf_no_top.h5\n",
      "17227776/17225924 [==============================] - 1s 0us/step\n"
     ]
    }
   ],
   "source": [
    "# Di sini saya implementasi model Mobile Net\n",
    "mobilenet = MobileNet(input_shape = (128, 128, 3), include_top = False, weights = 'imagenet')\n",
    "for layer in mobilenet.layers:\n",
    "    layer.trainable = False"
   ]
  },
  {
   "cell_type": "code",
   "execution_count": 6,
   "metadata": {
    "execution": {
     "iopub.execute_input": "2021-08-27T18:29:04.369123Z",
     "iopub.status.busy": "2021-08-27T18:29:04.368783Z",
     "iopub.status.idle": "2021-08-27T18:29:04.583931Z",
     "shell.execute_reply": "2021-08-27T18:29:04.583043Z",
     "shell.execute_reply.started": "2021-08-27T18:29:04.369087Z"
    }
   },
   "outputs": [
    {
     "name": "stdout",
     "output_type": "stream",
     "text": [
      "Model: \"sequential\"\n",
      "_________________________________________________________________\n",
      "Layer (type)                 Output Shape              Param #   \n",
      "=================================================================\n",
      "batch_normalization (BatchNo (None, 128, 128, 3)       12        \n",
      "_________________________________________________________________\n",
      "mobilenet_1.00_128 (Function (None, 4, 4, 1024)        3228864   \n",
      "_________________________________________________________________\n",
      "batch_normalization_1 (Batch (None, 4, 4, 1024)        4096      \n",
      "_________________________________________________________________\n",
      "global_average_pooling2d (Gl (None, 1024)              0         \n",
      "_________________________________________________________________\n",
      "dropout (Dropout)            (None, 1024)              0         \n",
      "_________________________________________________________________\n",
      "dense (Dense)                (None, 2)                 2050      \n",
      "=================================================================\n",
      "Total params: 3,235,022\n",
      "Trainable params: 4,104\n",
      "Non-trainable params: 3,230,918\n",
      "_________________________________________________________________\n"
     ]
    }
   ],
   "source": [
    "mobilenet_model = Sequential()\n",
    "mobilenet_model.add(BatchNormalization(input_shape = (128, 128, 3)))\n",
    "mobilenet_model.add(mobilenet)\n",
    "mobilenet_model.add(BatchNormalization())\n",
    "mobilenet_model.add(GlobalAveragePooling2D())\n",
    "mobilenet_model.add(Dropout(0.5))\n",
    "mobilenet_model.add(Dense(2, activation = 'softmax'))\n",
    "\n",
    "mobilenet_model.summary()"
   ]
  },
  {
   "cell_type": "code",
   "execution_count": 7,
   "metadata": {
    "execution": {
     "iopub.execute_input": "2021-08-27T18:29:04.585456Z",
     "iopub.status.busy": "2021-08-27T18:29:04.585122Z",
     "iopub.status.idle": "2021-08-27T19:15:25.568785Z",
     "shell.execute_reply": "2021-08-27T19:15:25.567912Z",
     "shell.execute_reply.started": "2021-08-27T18:29:04.585420Z"
    }
   },
   "outputs": [
    {
     "name": "stdout",
     "output_type": "stream",
     "text": [
      "Epoch 1/50\n",
      "250/250 [==============================] - 108s 416ms/step - loss: 0.5017 - accuracy: 0.7695 - val_loss: 0.1155 - val_accuracy: 0.9590\n",
      "Epoch 2/50\n",
      "250/250 [==============================] - 57s 227ms/step - loss: 0.2798 - accuracy: 0.8859 - val_loss: 0.1020 - val_accuracy: 0.9620\n",
      "Epoch 3/50\n",
      "250/250 [==============================] - 57s 228ms/step - loss: 0.2423 - accuracy: 0.9031 - val_loss: 0.0930 - val_accuracy: 0.9655\n",
      "Epoch 4/50\n",
      "250/250 [==============================] - 57s 227ms/step - loss: 0.2376 - accuracy: 0.9040 - val_loss: 0.0870 - val_accuracy: 0.9665\n",
      "Epoch 5/50\n",
      "250/250 [==============================] - 57s 227ms/step - loss: 0.2226 - accuracy: 0.9068 - val_loss: 0.0901 - val_accuracy: 0.9665\n",
      "Epoch 6/50\n",
      "250/250 [==============================] - 57s 228ms/step - loss: 0.2308 - accuracy: 0.9084 - val_loss: 0.0861 - val_accuracy: 0.9685\n",
      "Epoch 7/50\n",
      "250/250 [==============================] - 57s 229ms/step - loss: 0.2270 - accuracy: 0.9061 - val_loss: 0.0887 - val_accuracy: 0.9630\n",
      "Epoch 8/50\n",
      "250/250 [==============================] - 57s 226ms/step - loss: 0.2332 - accuracy: 0.9101 - val_loss: 0.0902 - val_accuracy: 0.9665\n",
      "Epoch 9/50\n",
      "250/250 [==============================] - 57s 228ms/step - loss: 0.2191 - accuracy: 0.9047 - val_loss: 0.0836 - val_accuracy: 0.9665\n",
      "Epoch 10/50\n",
      "250/250 [==============================] - 57s 227ms/step - loss: 0.2198 - accuracy: 0.9067 - val_loss: 0.0815 - val_accuracy: 0.9725\n",
      "Epoch 11/50\n",
      "250/250 [==============================] - 57s 227ms/step - loss: 0.2200 - accuracy: 0.9049 - val_loss: 0.0848 - val_accuracy: 0.9680\n",
      "Epoch 12/50\n",
      "250/250 [==============================] - 57s 226ms/step - loss: 0.2164 - accuracy: 0.9114 - val_loss: 0.0870 - val_accuracy: 0.9695\n",
      "Epoch 13/50\n",
      "250/250 [==============================] - 57s 227ms/step - loss: 0.2201 - accuracy: 0.9062 - val_loss: 0.0860 - val_accuracy: 0.9685\n",
      "Epoch 14/50\n",
      "250/250 [==============================] - 58s 231ms/step - loss: 0.2142 - accuracy: 0.9092 - val_loss: 0.0833 - val_accuracy: 0.9710\n",
      "Epoch 15/50\n",
      "250/250 [==============================] - 56s 224ms/step - loss: 0.2098 - accuracy: 0.9145 - val_loss: 0.0887 - val_accuracy: 0.9690\n",
      "Epoch 16/50\n",
      "250/250 [==============================] - 57s 226ms/step - loss: 0.2363 - accuracy: 0.9052 - val_loss: 0.0852 - val_accuracy: 0.9665\n",
      "Epoch 17/50\n",
      "250/250 [==============================] - 57s 230ms/step - loss: 0.2126 - accuracy: 0.9049 - val_loss: 0.0866 - val_accuracy: 0.9660\n",
      "Epoch 18/50\n",
      "250/250 [==============================] - 59s 235ms/step - loss: 0.2128 - accuracy: 0.9106 - val_loss: 0.0838 - val_accuracy: 0.9685\n",
      "Epoch 19/50\n",
      "250/250 [==============================] - 57s 229ms/step - loss: 0.2198 - accuracy: 0.9076 - val_loss: 0.0838 - val_accuracy: 0.9700\n",
      "Epoch 20/50\n",
      "250/250 [==============================] - 57s 227ms/step - loss: 0.2245 - accuracy: 0.9082 - val_loss: 0.0876 - val_accuracy: 0.9680\n",
      "Epoch 21/50\n",
      "250/250 [==============================] - 57s 227ms/step - loss: 0.2320 - accuracy: 0.9057 - val_loss: 0.0836 - val_accuracy: 0.9685\n",
      "Epoch 22/50\n",
      "250/250 [==============================] - 56s 225ms/step - loss: 0.2218 - accuracy: 0.9110 - val_loss: 0.0873 - val_accuracy: 0.9680\n",
      "Epoch 23/50\n",
      "250/250 [==============================] - 57s 228ms/step - loss: 0.1981 - accuracy: 0.9170 - val_loss: 0.0866 - val_accuracy: 0.9655\n",
      "Epoch 24/50\n",
      "250/250 [==============================] - 57s 227ms/step - loss: 0.2198 - accuracy: 0.9064 - val_loss: 0.0814 - val_accuracy: 0.9700\n",
      "Epoch 25/50\n",
      "250/250 [==============================] - 57s 226ms/step - loss: 0.2170 - accuracy: 0.9086 - val_loss: 0.0889 - val_accuracy: 0.9670\n",
      "Epoch 26/50\n",
      "250/250 [==============================] - 57s 226ms/step - loss: 0.2229 - accuracy: 0.9077 - val_loss: 0.0874 - val_accuracy: 0.9650\n",
      "Epoch 27/50\n",
      "250/250 [==============================] - 57s 227ms/step - loss: 0.2227 - accuracy: 0.9064 - val_loss: 0.0853 - val_accuracy: 0.9670\n",
      "Epoch 28/50\n",
      "250/250 [==============================] - 57s 226ms/step - loss: 0.2171 - accuracy: 0.9151 - val_loss: 0.0856 - val_accuracy: 0.9670\n",
      "Epoch 29/50\n",
      "250/250 [==============================] - 56s 225ms/step - loss: 0.2278 - accuracy: 0.9074 - val_loss: 0.0799 - val_accuracy: 0.9690\n",
      "Epoch 30/50\n",
      "250/250 [==============================] - 57s 228ms/step - loss: 0.2296 - accuracy: 0.9055 - val_loss: 0.0844 - val_accuracy: 0.9690\n",
      "Epoch 31/50\n",
      "250/250 [==============================] - 57s 227ms/step - loss: 0.2042 - accuracy: 0.9152 - val_loss: 0.0849 - val_accuracy: 0.9670\n",
      "Epoch 32/50\n",
      "250/250 [==============================] - 56s 225ms/step - loss: 0.2260 - accuracy: 0.9077 - val_loss: 0.0818 - val_accuracy: 0.9675\n",
      "Epoch 33/50\n",
      "250/250 [==============================] - 57s 228ms/step - loss: 0.2221 - accuracy: 0.9099 - val_loss: 0.0796 - val_accuracy: 0.9715\n",
      "Epoch 34/50\n",
      "250/250 [==============================] - 57s 227ms/step - loss: 0.2109 - accuracy: 0.9131 - val_loss: 0.0847 - val_accuracy: 0.9670\n",
      "Epoch 35/50\n",
      "250/250 [==============================] - 57s 226ms/step - loss: 0.2080 - accuracy: 0.9162 - val_loss: 0.0853 - val_accuracy: 0.9650\n",
      "Epoch 36/50\n",
      "250/250 [==============================] - 56s 225ms/step - loss: 0.2173 - accuracy: 0.9080 - val_loss: 0.0807 - val_accuracy: 0.9675\n",
      "Epoch 37/50\n",
      "250/250 [==============================] - 57s 227ms/step - loss: 0.2293 - accuracy: 0.9046 - val_loss: 0.0846 - val_accuracy: 0.9675\n",
      "Epoch 38/50\n",
      "250/250 [==============================] - 57s 230ms/step - loss: 0.2148 - accuracy: 0.9146 - val_loss: 0.0829 - val_accuracy: 0.9660\n",
      "Epoch 39/50\n",
      "250/250 [==============================] - 57s 228ms/step - loss: 0.2254 - accuracy: 0.9078 - val_loss: 0.0828 - val_accuracy: 0.9690\n",
      "Epoch 40/50\n",
      "250/250 [==============================] - 56s 225ms/step - loss: 0.2231 - accuracy: 0.9077 - val_loss: 0.0840 - val_accuracy: 0.9675\n",
      "Epoch 41/50\n",
      "250/250 [==============================] - 57s 227ms/step - loss: 0.2185 - accuracy: 0.9097 - val_loss: 0.0807 - val_accuracy: 0.9695\n",
      "Epoch 42/50\n",
      "250/250 [==============================] - 57s 228ms/step - loss: 0.2269 - accuracy: 0.9079 - val_loss: 0.0802 - val_accuracy: 0.9705\n",
      "Epoch 44/50\n",
      "250/250 [==============================] - 56s 224ms/step - loss: 0.2204 - accuracy: 0.9066 - val_loss: 0.0816 - val_accuracy: 0.9695\n",
      "Epoch 45/50\n",
      "250/250 [==============================] - 57s 230ms/step - loss: 0.2282 - accuracy: 0.9054 - val_loss: 0.0810 - val_accuracy: 0.9700\n",
      "Epoch 46/50\n",
      "250/250 [==============================] - 57s 228ms/step - loss: 0.2124 - accuracy: 0.9114 - val_loss: 0.0814 - val_accuracy: 0.9690\n",
      "Epoch 47/50\n",
      "250/250 [==============================] - 56s 226ms/step - loss: 0.2149 - accuracy: 0.9125 - val_loss: 0.0829 - val_accuracy: 0.9690\n",
      "Epoch 48/50\n",
      "250/250 [==============================] - 57s 229ms/step - loss: 0.2112 - accuracy: 0.9133 - val_loss: 0.0839 - val_accuracy: 0.9670\n"
     ]
    }
   ],
   "source": [
    "# Atur Callbacks\n",
    "ini_callback = [EarlyStopping(monitor = 'loss', mode = 'min', patience = 25, restore_best_weights = True)]\n",
    "\n",
    "# Compile mobile net dan set optimizer, di sini saya menggunakan adam\n",
    "mobilenet_model.compile(optimizer='adam',loss = 'binary_crossentropy', metrics=['accuracy'])\n",
    "\n",
    "# Training dan validasi\n",
    "mobilenet_history = mobilenet_model.fit(train_gambar, epochs = 50, validation_data = test_gambar, callbacks = ini_callback)"
   ]
  },
  {
   "cell_type": "code",
   "execution_count": 8,
   "metadata": {
    "execution": {
     "iopub.execute_input": "2021-08-27T19:15:25.571254Z",
     "iopub.status.busy": "2021-08-27T19:15:25.570982Z",
     "iopub.status.idle": "2021-08-27T19:15:25.863503Z",
     "shell.execute_reply": "2021-08-27T19:15:25.862707Z",
     "shell.execute_reply.started": "2021-08-27T19:15:25.571225Z"
    }
   },
   "outputs": [
    {
     "data": {
      "image/png": "[encoded data removed]",
      "text/plain": [
       "<Figure size 432x288 with 1 Axes>"
      ]
     },
     "metadata": {
      "needs_background": "light"
     },
     "output_type": "display_data"
    },
    {
     "data": {
      "image/png": "[encoded data removed]",
      "text/plain": [
       "<Figure size 432x288 with 1 Axes>"
      ]
     },
     "metadata": {
      "needs_background": "light"
     },
     "output_type": "display_data"
    }
   ],
   "source": [
    "# Plot akurasi\n",
    "\n",
    "acc = mobilenet_history.history['accuracy']\n",
    "val_acc = mobilenet_history.history['val_accuracy']\n",
    "loss = mobilenet_history.history['loss']\n",
    "val_loss = mobilenet_history.history['val_loss']\n",
    "epochs = range(1, len(acc) + 1)\n",
    "\n",
    "plt.title('Accuracy training dan validasi')\n",
    "plt.plot(epochs, acc, 'red', label='Training acc')\n",
    "plt.plot(epochs, val_acc, 'blue', label='Validation acc')\n",
    "plt.legend()\n",
    "\n",
    "plt.figure()\n",
    "plt.title('Loss training dan validasi')\n",
    "plt.plot(epochs, loss, 'red', label='Training loss')\n",
    "plt.plot(epochs, val_loss, 'blue', label='Validation loss')\n",
    "\n",
    "plt.legend()\n",
    "\n",
    "plt.show()"
   ]
  },
  {
   "cell_type": "code",
   "execution_count": 9,
   "metadata": {
    "execution": {
     "iopub.execute_input": "2021-08-27T19:15:25.865477Z",
     "iopub.status.busy": "2021-08-27T19:15:25.865133Z",
     "iopub.status.idle": "2021-08-27T19:15:31.907187Z",
     "shell.execute_reply": "2021-08-27T19:15:31.906406Z",
     "shell.execute_reply.started": "2021-08-27T19:15:25.865441Z"
    }
   },
   "outputs": [
    {
     "name": "stdout",
     "output_type": "stream",
     "text": [
      "63/63 [==============================] - 6s 94ms/step - loss: 0.0866 - accuracy: 0.9655\n",
      "Test Loss: 0.08660251647233963\n",
      "Test Accuracy: 0.965499997138977\n"
     ]
    }
   ],
   "source": [
    "score_mn = mobilenet_model.evaluate(test_gambar)\n",
    "print(\"Test Loss:\", score_mn[0])\n",
    "print(\"Test Accuracy:\", score_mn[1])"
   ]
  },
  {
   "cell_type": "markdown",
   "metadata": {},
   "source": [
    "**Save model to TF Lite**"
   ]
  },
  {
   "cell_type": "code",
   "execution_count": 10,
   "metadata": {
    "execution": {
     "iopub.execute_input": "2021-08-27T19:15:31.910822Z",
     "iopub.status.busy": "2021-08-27T19:15:31.910540Z",
     "iopub.status.idle": "2021-08-27T19:15:46.426686Z",
     "shell.execute_reply": "2021-08-27T19:15:46.425725Z",
     "shell.execute_reply.started": "2021-08-27T19:15:31.910795Z"
    }
   },
   "outputs": [],
   "source": [
    "# Convert model untuk deployment\n",
    "converter = tf.lite.TFLiteConverter.from_keras_model(mobilenet_model)\n",
    "tflite_model = converter.convert()\n",
    "\n",
    "# Save the TF Lite model.\n",
    "with tf.io.gfile.GFile('animal.tflite', 'wb') as f:\n",
    "  f.write(tflite_model)"
   ]
  }
 ],
 "metadata": {
  "kernelspec": {
   "display_name": "Python 3",
   "language": "python",
   "name": "python3"
  },
  "language_info": {
   "codemirror_mode": {
    "name": "ipython",
    "version": 3
   },
   "file_extension": ".py",
   "mimetype": "text/x-python",
   "name": "python",
   "nbconvert_exporter": "python",
   "pygments_lexer": "ipython3",
   "version": "3.7.10"
  }
 },
 "nbformat": 4,
 "nbformat_minor": 4
}
